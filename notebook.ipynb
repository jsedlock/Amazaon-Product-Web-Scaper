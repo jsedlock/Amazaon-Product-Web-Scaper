{
 "cells": [
  {
   "cell_type": "code",
   "execution_count": 10,
   "metadata": {},
   "outputs": [],
   "source": [
    "# import libraries\n",
    "\n",
    "from bs4 import BeautifulSoup\n",
    "import requests\n",
    "import time\n",
    "import datetime\n",
    "import pandas as pd\n",
    "import datetime\n",
    "import csv\n",
    "\n",
    "import smtplib"
   ]
  },
  {
   "cell_type": "code",
   "execution_count": 11,
   "metadata": {},
   "outputs": [
    {
     "name": "stdout",
     "output_type": "stream",
     "text": [
      "\n",
      "            Late 2021 Apple MacBookPro with Apple M1 Pro chip (16 inch, 16GB RAM, 1TB SSD) Silver (Renewed)\n",
      "           \n",
      "\n",
      "                        $1,689.95\n",
      "                       \n"
     ]
    }
   ],
   "source": [
    "# Connect to Website\n",
    "URL = 'https://www.amazon.com/Late-Apple-MacBookPro-Silver-Renewed/dp/B09Q4GQRXZ/ref=sr_1_1?crid=24FZTZWXRGVSK&keywords=16+in+macbook+pro+m1+16+gb+ram&qid=1682528722&sprefix=16+in+macbook+pro+m1+16+gb+ram%2Caps%2C93&sr=8-1'\n",
    "\n",
    "headers = {\"User-Agent\": \"Mozilla/5.0 (Macintosh; Intel Mac OS X 10_15_7) AppleWebKit/605.1.15 (KHTML, like Gecko) Version/16.2 Safari/605.1.15\", \n",
    "           \"Accept-Encoding\":\"gzip, deflate\",\n",
    "             \"Accept\":\"text/html,application/xhtml+xml,application/xml;q=0.9,*/*;q=0.8\", \n",
    "             \"DNT\":\"1\",\n",
    "             \"Connection\":\"close\", \n",
    "             \"Upgrade-Insecure-Requests\":\"1\"}\n",
    "\n",
    "page = requests.get(URL, headers=headers)\n",
    "\n",
    "# pulling all contents from the page into an HTML format\n",
    "soup1 = BeautifulSoup(page.content, 'html.parser')\n",
    "\n",
    "# adjusting the HTML format with the prettify format\n",
    "soup2 = BeautifulSoup(soup1.prettify(), 'html.parser')\n",
    "\n",
    "# now we will locate the title and price text from the html code\n",
    "title = soup2.find(id = 'productTitle').get_text()\n",
    "price = soup2.find(\"span\", attrs={'class':'a-offscreen'}).get_text()\n",
    "\n",
    "print(title)\n",
    "print(price)"
   ]
  },
  {
   "cell_type": "code",
   "execution_count": 12,
   "metadata": {},
   "outputs": [
    {
     "name": "stdout",
     "output_type": "stream",
     "text": [
      "Late 2021 Apple MacBookPro with Apple M1 Pro chip (16 inch, 16GB RAM, 1TB SSD) Silver (Renewed)\n",
      "1689.95\n"
     ]
    }
   ],
   "source": [
    "# cleaning the string format for the title and price\n",
    "price = price.strip().replace('$' , '')\n",
    "price = price.replace(',', '')\n",
    "title = title.strip()\n",
    "\n",
    "print(title)\n",
    "print(price)"
   ]
  },
  {
   "cell_type": "code",
   "execution_count": 13,
   "metadata": {},
   "outputs": [
    {
     "name": "stdout",
     "output_type": "stream",
     "text": [
      "2023-04-28\n"
     ]
    }
   ],
   "source": [
    "\n",
    "today = datetime.date.today()\n",
    "\n",
    "print(today)"
   ]
  },
  {
   "cell_type": "code",
   "execution_count": 14,
   "metadata": {},
   "outputs": [],
   "source": [
    "# creating a csv file to store the data\n",
    "\n",
    "header = ['Product', 'Price', 'Date']\n",
    "data = [title, price, today]\n",
    "\n",
    "with open('Amazon_Macbook_Prices.csv', 'w', newline='', encoding = 'UTF8') as f:\n",
    "    writer = csv.writer(f)\n",
    "    writer.writerow(header)\n",
    "    writer.writerow(data)\n"
   ]
  },
  {
   "cell_type": "code",
   "execution_count": 15,
   "metadata": {},
   "outputs": [
    {
     "data": {
      "text/plain": [
       "\"\\nwith open('Amazon_Macbook_Prices.csv', 'a+', newline='', encoding = 'UTF8') as f:\\n    writer = csv.writer(f)\\n    writer.writerow(data)\\n\""
      ]
     },
     "execution_count": 15,
     "metadata": {},
     "output_type": "execute_result"
    }
   ],
   "source": [
    "# appending data to the csv\n",
    "\n",
    "'''\n",
    "with open('Amazon_Macbook_Prices.csv', 'a+', newline='', encoding = 'UTF8') as f:\n",
    "    writer = csv.writer(f)\n",
    "    writer.writerow(data)\n",
    "'''"
   ]
  },
  {
   "cell_type": "code",
   "execution_count": 16,
   "metadata": {},
   "outputs": [],
   "source": [
    "# creating a function to send an email to myslef when the price drops\n",
    "\n",
    "def send_mail():\n",
    "    server = smtplib.SMTP_SSL('smtp.gmail.com',465)\n",
    "    server.ehlo()\n",
    "    #server.starttls()\n",
    "    server.ehlo()\n",
    "    server.login('sedlockjeff1@gmail.com','xxxxxxxxxxxxxx')\n",
    "    \n",
    "    subject = \"The Macbook Pro price has dropped!\"\n",
    "    body = \"Jeff, This is the moment we have been waiting for. Now is your chance to pick up the laptop of your dreams. Don't mess it up! Link here: https://www.amazon.com/Late-Apple-MacBookPro-Silver-Renewed/dp/B09Q4GQRXZ/ref=sr_1_1?crid=24FZTZWXRGVSK&keywords=16+in+macbook+pro+m1+16+gb+ram&qid=1682528722&sprefix=16+in+macbook+pro+m1+16+gb+ram%2Caps%2C93&sr=8-1\"\n",
    "   \n",
    "    msg = f\"Subject: {subject}\\n\\n{body}\"\n",
    "    \n",
    "    server.sendmail(\n",
    "        'sedlockjeff1@gmail.com',\n",
    "        msg\n",
    "     \n",
    "    )"
   ]
  },
  {
   "cell_type": "code",
   "execution_count": 17,
   "metadata": {},
   "outputs": [],
   "source": [
    "def price_scrape():\n",
    "  '''\n",
    "  This function takes all the above code for web scraping amazon so it can be used in a timer \n",
    "  '''\n",
    "\n",
    "  # Connect to Website\n",
    "  URL = 'https://www.amazon.com/Late-Apple-MacBookPro-Silver-Renewed/dp/B09Q4GQRXZ/ref=sr_1_1?crid=24FZTZWXRGVSK&keywords=16+in+macbook+pro+m1+16+gb+ram&qid=1682528722&sprefix=16+in+macbook+pro+m1+16+gb+ram%2Caps%2C93&sr=8-1'\n",
    "\n",
    "  headers = {\"User-Agent\": \"Mozilla/5.0 (Macintosh; Intel Mac OS X 10_15_7) AppleWebKit/605.1.15 (KHTML, like Gecko) Version/16.2 Safari/605.1.15\", \n",
    "         \"Accept-Encoding\":\"gzip, deflate\",\n",
    "           \"Accept\":\"text/html,application/xhtml+xml,application/xml;q=0.9,*/*;q=0.8\", \n",
    "           \"DNT\":\"1\",\n",
    "           \"Connection\":\"close\", \n",
    "           \"Upgrade-Insecure-Requests\":\"1\"}\n",
    "  \n",
    "  page = requests.get(URL, headers=headers)\n",
    "\n",
    "  # pulling all contents from the page into an HTML format\n",
    "  soup1 = BeautifulSoup(page.content, 'html.parser')\n",
    "\n",
    "  # adjusting the HTML format with the prettify format\n",
    "  soup2 = BeautifulSoup(soup1.prettify(), 'html.parser')\n",
    "\n",
    "  # now we will locate the title and price text from the html code\n",
    "  title = soup2.find(id = 'productTitle').get_text()\n",
    "  price = soup2.find(\"span\", attrs={'class':'a-offscreen'}).get_text()\n",
    "\n",
    "  # cleaning the string format for the title and price\n",
    "  price = price.strip().replace('$' , '')\n",
    "  price = float(price.replace(',', ''))\n",
    "  title = title.strip()\n",
    "\n",
    "  if price < 1689:\n",
    "    send_mail()\n",
    "\n",
    "  today = datetime.date.today()\n",
    "  \n",
    "  header = ['Product', 'Price', 'Date']\n",
    "  data = [title, price, today]\n",
    "\n",
    "  with open('Amazon_Macbook_Prices.csv', 'a+', newline='', encoding = 'UTF8') as f:\n",
    "    writer = csv.writer(f)\n",
    "    writer.writerow(data)"
   ]
  },
  {
   "cell_type": "code",
   "execution_count": 18,
   "metadata": {},
   "outputs": [
    {
     "ename": "KeyboardInterrupt",
     "evalue": "",
     "output_type": "error",
     "traceback": [
      "\u001b[0;31m---------------------------------------------------------------------------\u001b[0m",
      "\u001b[0;31mKeyboardInterrupt\u001b[0m                         Traceback (most recent call last)",
      "\u001b[1;32m/Users/jeffreysedlock/Data Science/Portfolio/Amazaon-Product-Web-Scaper/notebook.ipynb Cell 9\u001b[0m in \u001b[0;36m<cell line: 4>\u001b[0;34m()\u001b[0m\n\u001b[1;32m      <a href='vscode-notebook-cell:/Users/jeffreysedlock/Data%20Science/Portfolio/Amazaon-Product-Web-Scaper/notebook.ipynb#X24sZmlsZQ%3D%3D?line=2'>3</a>\u001b[0m \u001b[39mwhile\u001b[39;00m(\u001b[39mTrue\u001b[39;00m):\n\u001b[1;32m      <a href='vscode-notebook-cell:/Users/jeffreysedlock/Data%20Science/Portfolio/Amazaon-Product-Web-Scaper/notebook.ipynb#X24sZmlsZQ%3D%3D?line=3'>4</a>\u001b[0m     price_scrape()\n\u001b[0;32m----> <a href='vscode-notebook-cell:/Users/jeffreysedlock/Data%20Science/Portfolio/Amazaon-Product-Web-Scaper/notebook.ipynb#X24sZmlsZQ%3D%3D?line=4'>5</a>\u001b[0m     time\u001b[39m.\u001b[39;49msleep(\u001b[39m86400\u001b[39;49m)\n",
      "\u001b[0;31mKeyboardInterrupt\u001b[0m: "
     ]
    }
   ],
   "source": [
    "# putting the price_scrape function on a timer\n",
    "\n",
    "while(True):\n",
    "    price_scrape()\n",
    "    time.sleep(86400)"
   ]
  },
  {
   "cell_type": "code",
   "execution_count": null,
   "metadata": {},
   "outputs": [
    {
     "data": {
      "text/html": [
       "<div>\n",
       "<style scoped>\n",
       "    .dataframe tbody tr th:only-of-type {\n",
       "        vertical-align: middle;\n",
       "    }\n",
       "\n",
       "    .dataframe tbody tr th {\n",
       "        vertical-align: top;\n",
       "    }\n",
       "\n",
       "    .dataframe thead th {\n",
       "        text-align: right;\n",
       "    }\n",
       "</style>\n",
       "<table border=\"1\" class=\"dataframe\">\n",
       "  <thead>\n",
       "    <tr style=\"text-align: right;\">\n",
       "      <th></th>\n",
       "      <th>Product</th>\n",
       "      <th>Price</th>\n",
       "      <th>Date</th>\n",
       "    </tr>\n",
       "  </thead>\n",
       "  <tbody>\n",
       "    <tr>\n",
       "      <th>0</th>\n",
       "      <td>Late 2021 Apple MacBookPro with Apple M1 Pro c...</td>\n",
       "      <td>1689.95</td>\n",
       "      <td>2023-04-27</td>\n",
       "    </tr>\n",
       "    <tr>\n",
       "      <th>1</th>\n",
       "      <td>Late 2021 Apple MacBookPro with Apple M1 Pro c...</td>\n",
       "      <td>1689.95</td>\n",
       "      <td>2023-04-27</td>\n",
       "    </tr>\n",
       "    <tr>\n",
       "      <th>2</th>\n",
       "      <td>Late 2021 Apple MacBookPro with Apple M1 Pro c...</td>\n",
       "      <td>1689.95</td>\n",
       "      <td>2023-04-27</td>\n",
       "    </tr>\n",
       "  </tbody>\n",
       "</table>\n",
       "</div>"
      ],
      "text/plain": [
       "                                             Product    Price        Date\n",
       "0  Late 2021 Apple MacBookPro with Apple M1 Pro c...  1689.95  2023-04-27\n",
       "1  Late 2021 Apple MacBookPro with Apple M1 Pro c...  1689.95  2023-04-27\n",
       "2  Late 2021 Apple MacBookPro with Apple M1 Pro c...  1689.95  2023-04-27"
      ]
     },
     "execution_count": 121,
     "metadata": {},
     "output_type": "execute_result"
    }
   ],
   "source": [
    "# importing the data frame to ensure that the data is being populated correctly\n",
    "df = pd.read_csv('Amazon_Macbook_Prices.csv')\n",
    "df.head()"
   ]
  }
 ],
 "metadata": {
  "kernelspec": {
   "display_name": "Python 3",
   "language": "python",
   "name": "python3"
  },
  "language_info": {
   "codemirror_mode": {
    "name": "ipython",
    "version": 3
   },
   "file_extension": ".py",
   "mimetype": "text/x-python",
   "name": "python",
   "nbconvert_exporter": "python",
   "pygments_lexer": "ipython3",
   "version": "3.9.12"
  },
  "orig_nbformat": 4
 },
 "nbformat": 4,
 "nbformat_minor": 2
}
