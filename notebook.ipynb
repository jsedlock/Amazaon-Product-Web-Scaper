{
 "cells": [
  {
   "cell_type": "code",
   "execution_count": 1,
   "metadata": {},
   "outputs": [],
   "source": [
    "# import libraries\n",
    "\n",
    "from bs4 import BeautifulSoup\n",
    "import requests\n",
    "import time\n",
    "import datetime\n",
    "import pandas as pd\n",
    "import datetime\n",
    "import csv\n",
    "\n",
    "import smtplib"
   ]
  },
  {
   "cell_type": "code",
   "execution_count": 18,
   "metadata": {},
   "outputs": [
    {
     "name": "stdout",
     "output_type": "stream",
     "text": [
      "<span class=\"a-size-large product-title-word-break\" id=\"productTitle\">\n",
      "             Late 2021 Apple MacBookPro with Apple M1 Pro chip (16 inch, 16GB RAM, 1TB SSD) Silver (Renewed)\n",
      "            </span>\n",
      "<span class=\"a-offscreen\">\n",
      "                         $1,719.95\n",
      "                        </span>\n"
     ]
    }
   ],
   "source": [
    "# Connect to Website\n",
    "URL = 'https://www.amazon.com/Late-Apple-MacBookPro-Silver-Renewed/dp/B09Q4GQRXZ/ref=sr_1_4?crid=3QE0YEN18LLPL&keywords=16+in+2021+macbook+pro&qid=1682948016&sprefix=16+in+2021+macbook+pro+%2Caps%2C90&sr=8-4'\n",
    "\n",
    "headers = {\"User-Agent\": \"Mozilla/5.0 (Macintosh; Intel Mac OS X 10_15_7) AppleWebKit/605.1.15 (KHTML, like Gecko) Version/16.2 Safari/605.1.15\", \"Accept-Encoding\":\"gzip, deflate\", \"Accept\":\"text/html,application/xhtml+xml,application/xml;q=0.9,*/*;q=0.8\", \"DNT\":\"1\",\"Connection\":\"close\", \"Upgrade-Insecure-Requests\":\"1\"}\n",
    "\n",
    "page = requests.get(URL, headers=headers)\n",
    "\n",
    "# pulling all contents from the page into an HTML format\n",
    "soup1 = BeautifulSoup(page.content, 'html.parser')\n",
    "\n",
    "# adjusting the HTML format with the prettify format\n",
    "soup2 = BeautifulSoup(soup1.prettify(), 'html.parser')\n",
    "\n",
    "# now we will locate the title and price text from the html code\n",
    "\n",
    "title = soup2.find(id = 'productTitle')\n",
    "price = soup2.find(\"span\", attrs={'class':'a-offscreen'})\n",
    "\n",
    "\n",
    "print(title)\n",
    "print(price)\n"
   ]
  },
  {
   "cell_type": "code",
   "execution_count": 19,
   "metadata": {},
   "outputs": [
    {
     "name": "stdout",
     "output_type": "stream",
     "text": [
      "Late 2021 Apple MacBookPro with Apple M1 Pro chip (16 inch, 16GB RAM, 1TB SSD) Silver (Renewed)\n",
      "1719.95\n"
     ]
    }
   ],
   "source": [
    "# cleaning the string format for the title and price\n",
    "title = title.get_text().strip()\n",
    "\n",
    "price = price.get_text().strip().replace('$' , '')\n",
    "price = price.replace(',', '')\n",
    "\n",
    "\n",
    "print(title)\n",
    "print(price)"
   ]
  },
  {
   "cell_type": "code",
   "execution_count": 21,
   "metadata": {},
   "outputs": [
    {
     "name": "stdout",
     "output_type": "stream",
     "text": [
      "2023-06-04\n"
     ]
    }
   ],
   "source": [
    "\n",
    "today = datetime.date.today()\n",
    "\n",
    "print(today)"
   ]
  },
  {
   "cell_type": "code",
   "execution_count": 33,
   "metadata": {},
   "outputs": [],
   "source": [
    "# creating a csv file to store the data\n",
    "'''\n",
    "header = ['Product', 'Price', 'Date']\n",
    "data = [title, price, today]\n",
    "\n",
    "with open('Amazon_Macbook_Prices.csv', 'w', newline='', encoding = 'UTF8') as f:\n",
    "    writer = csv.writer(f)\n",
    "    writer.writerow(header)\n",
    "    writer.writerow(data)\n",
    "'''"
   ]
  },
  {
   "cell_type": "code",
   "execution_count": 23,
   "metadata": {},
   "outputs": [],
   "source": [
    "# appending data to the csv\n",
    "\n",
    "\n",
    "with open('Amazon_Macbook_Prices.csv', 'a+', newline='', encoding = 'UTF8') as f:\n",
    "    writer = csv.writer(f)\n",
    "    writer.writerow(data)"
   ]
  },
  {
   "cell_type": "code",
   "execution_count": 32,
   "metadata": {},
   "outputs": [],
   "source": [
    "# creating a function to send an email to myslef when the price drops\n",
    "\n",
    "def send_mail():\n",
    "    server = smtplib.SMTP_SSL('smtp.gmail.com',465)\n",
    "    server.ehlo()\n",
    "    #server.starttls()\n",
    "    server.ehlo()\n",
    "    server.login('sedlockjeff1@gmail.com','xxxxxxxxxxxxxx')\n",
    "    \n",
    "    subject = \"The Macbook Pro price has dropped!\"\n",
    "    body = \"Jeff, This is the moment we have been waiting for. Now is your chance to pick up the laptop of your dreams. Don't mess it up! Link here: https://www.amazon.com/Late-Apple-MacBookPro-Silver-Renewed/dp/B09Q4GQRXZ/ref=sr_1_1?crid=24FZTZWXRGVSK&keywords=16+in+macbook+pro+m1+16+gb+ram&qid=1682528722&sprefix=16+in+macbook+pro+m1+16+gb+ram%2Caps%2C93&sr=8-1\"\n",
    "   \n",
    "    msg = f\"Subject: {subject}\\n\\n{body}\"\n",
    "    \n",
    "    server.sendmail(\n",
    "        'sedlockjeff1@gmail.com',\n",
    "        msg\n",
    "     \n",
    "    )"
   ]
  },
  {
   "cell_type": "code",
   "execution_count": 29,
   "metadata": {},
   "outputs": [],
   "source": [
    "def price_scrape():\n",
    "  '''\n",
    "  This function takes all the above code for web scraping amazon so it can be used in a timer \n",
    "  '''\n",
    "\n",
    "  # Connect to Website\n",
    "  URL = 'https://www.amazon.com/Late-Apple-MacBookPro-Silver-Renewed/dp/B09Q4GQRXZ/ref=sr_1_4?crid=3QE0YEN18LLPL&keywords=16+in+2021+macbook+pro&qid=1682948016&sprefix=16+in+2021+macbook+pro+%2Caps%2C90&sr=8-4'\n",
    "\n",
    "  headers = {\"User-Agent\": \"Mozilla/5.0 (Macintosh; Intel Mac OS X 10_15_7) AppleWebKit/605.1.15 (KHTML, like Gecko) Version/16.2 Safari/605.1.15\", \"Accept-Encoding\":\"gzip, deflate\", \"Accept\":\"text/html,application/xhtml+xml,application/xml;q=0.9,*/*;q=0.8\", \"DNT\":\"1\",\"Connection\":\"close\", \"Upgrade-Insecure-Requests\":\"1\"}\n",
    "\n",
    "  page = requests.get(URL, headers=headers)\n",
    "\n",
    "  # pulling all contents from the page into an HTML format\n",
    "  soup1 = BeautifulSoup(page.content, 'html.parser')\n",
    "\n",
    "  # adjusting the HTML format with the prettify format\n",
    "  soup2 = BeautifulSoup(soup1.prettify(), 'html.parser')\n",
    "\n",
    "  # now we will locate the title and price text from the html code\n",
    "\n",
    "  title = soup2.find(id = 'productTitle')\n",
    "  price = soup2.find(\"span\", attrs={'class':'a-offscreen'})\n",
    "\n",
    "  # cleaning the string format for the title and price\n",
    "  title = title.get_text().strip()\n",
    "\n",
    "  price = price.get_text().strip().replace('$' , '')\n",
    "  price = price.replace(',', '')\n",
    "\n",
    "  if float(price) < 1700:\n",
    "    send_mail()\n",
    "\n",
    "  today = datetime.date.today()\n",
    "  \n",
    "  header = ['Product', 'Price', 'Date']\n",
    "  data = [title, price, today]\n",
    "\n",
    "  with open('Amazon_Macbook_Prices.csv', 'a+', newline='', encoding = 'UTF8') as f:\n",
    "    writer = csv.writer(f)\n",
    "    writer.writerow(data)"
   ]
  },
  {
   "cell_type": "code",
   "execution_count": 30,
   "metadata": {},
   "outputs": [
    {
     "ename": "KeyboardInterrupt",
     "evalue": "",
     "output_type": "error",
     "traceback": [
      "\u001b[0;31m---------------------------------------------------------------------------\u001b[0m",
      "\u001b[0;31mKeyboardInterrupt\u001b[0m                         Traceback (most recent call last)",
      "\u001b[1;32m/Users/jeffreysedlock/Data Science/Portfolio/Amazaon-Product-Web-Scaper/notebook.ipynb Cell 9\u001b[0m in \u001b[0;36m<cell line: 4>\u001b[0;34m()\u001b[0m\n\u001b[1;32m      <a href='vscode-notebook-cell:/Users/jeffreysedlock/Data%20Science/Portfolio/Amazaon-Product-Web-Scaper/notebook.ipynb#X11sZmlsZQ%3D%3D?line=2'>3</a>\u001b[0m \u001b[39mwhile\u001b[39;00m(\u001b[39mTrue\u001b[39;00m):\n\u001b[1;32m      <a href='vscode-notebook-cell:/Users/jeffreysedlock/Data%20Science/Portfolio/Amazaon-Product-Web-Scaper/notebook.ipynb#X11sZmlsZQ%3D%3D?line=3'>4</a>\u001b[0m     price_scrape()\n\u001b[0;32m----> <a href='vscode-notebook-cell:/Users/jeffreysedlock/Data%20Science/Portfolio/Amazaon-Product-Web-Scaper/notebook.ipynb#X11sZmlsZQ%3D%3D?line=4'>5</a>\u001b[0m     time\u001b[39m.\u001b[39;49msleep(\u001b[39m3\u001b[39;49m)\n",
      "\u001b[0;31mKeyboardInterrupt\u001b[0m: "
     ]
    }
   ],
   "source": [
    "# putting the price_scrape function on a timer\n",
    "\n",
    "while(True):\n",
    "    price_scrape()\n",
    "    time.sleep(3)"
   ]
  },
  {
   "cell_type": "code",
   "execution_count": 31,
   "metadata": {},
   "outputs": [
    {
     "data": {
      "text/html": [
       "<div>\n",
       "<style scoped>\n",
       "    .dataframe tbody tr th:only-of-type {\n",
       "        vertical-align: middle;\n",
       "    }\n",
       "\n",
       "    .dataframe tbody tr th {\n",
       "        vertical-align: top;\n",
       "    }\n",
       "\n",
       "    .dataframe thead th {\n",
       "        text-align: right;\n",
       "    }\n",
       "</style>\n",
       "<table border=\"1\" class=\"dataframe\">\n",
       "  <thead>\n",
       "    <tr style=\"text-align: right;\">\n",
       "      <th></th>\n",
       "      <th>Product</th>\n",
       "      <th>Price</th>\n",
       "      <th>Date</th>\n",
       "    </tr>\n",
       "  </thead>\n",
       "  <tbody>\n",
       "    <tr>\n",
       "      <th>0</th>\n",
       "      <td>Late 2021 Apple MacBookPro with Apple M1 Pro c...</td>\n",
       "      <td>1719.95</td>\n",
       "      <td>2023-06-04</td>\n",
       "    </tr>\n",
       "    <tr>\n",
       "      <th>1</th>\n",
       "      <td>Late 2021 Apple MacBookPro with Apple M1 Pro c...</td>\n",
       "      <td>1719.95</td>\n",
       "      <td>2023-06-04</td>\n",
       "    </tr>\n",
       "    <tr>\n",
       "      <th>2</th>\n",
       "      <td>Late 2021 Apple MacBookPro with Apple M1 Pro c...</td>\n",
       "      <td>1719.95</td>\n",
       "      <td>2023-06-04</td>\n",
       "    </tr>\n",
       "    <tr>\n",
       "      <th>3</th>\n",
       "      <td>Late 2021 Apple MacBookPro with Apple M1 Pro c...</td>\n",
       "      <td>1719.95</td>\n",
       "      <td>2023-06-04</td>\n",
       "    </tr>\n",
       "    <tr>\n",
       "      <th>4</th>\n",
       "      <td>Late 2021 Apple MacBookPro with Apple M1 Pro c...</td>\n",
       "      <td>1719.95</td>\n",
       "      <td>2023-06-04</td>\n",
       "    </tr>\n",
       "  </tbody>\n",
       "</table>\n",
       "</div>"
      ],
      "text/plain": [
       "                                             Product    Price        Date\n",
       "0  Late 2021 Apple MacBookPro with Apple M1 Pro c...  1719.95  2023-06-04\n",
       "1  Late 2021 Apple MacBookPro with Apple M1 Pro c...  1719.95  2023-06-04\n",
       "2  Late 2021 Apple MacBookPro with Apple M1 Pro c...  1719.95  2023-06-04\n",
       "3  Late 2021 Apple MacBookPro with Apple M1 Pro c...  1719.95  2023-06-04\n",
       "4  Late 2021 Apple MacBookPro with Apple M1 Pro c...  1719.95  2023-06-04"
      ]
     },
     "execution_count": 31,
     "metadata": {},
     "output_type": "execute_result"
    }
   ],
   "source": [
    "# importing the data frame to ensure that the data is being populated correctly\n",
    "df = pd.read_csv('Amazon_Macbook_Prices.csv')\n",
    "df.head()"
   ]
  }
 ],
 "metadata": {
  "kernelspec": {
   "display_name": "Python 3",
   "language": "python",
   "name": "python3"
  },
  "language_info": {
   "codemirror_mode": {
    "name": "ipython",
    "version": 3
   },
   "file_extension": ".py",
   "mimetype": "text/x-python",
   "name": "python",
   "nbconvert_exporter": "python",
   "pygments_lexer": "ipython3",
   "version": "3.9.12"
  },
  "orig_nbformat": 4
 },
 "nbformat": 4,
 "nbformat_minor": 2
}
